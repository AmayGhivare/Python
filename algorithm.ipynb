{
 "cells": [
  {
   "cell_type": "code",
   "execution_count": null,
   "id": "7e5bdc74-cf4d-43bd-bfbd-72741fc996d5",
   "metadata": {},
   "outputs": [],
   "source": []
  },
  {
   "cell_type": "code",
   "execution_count": 7,
   "id": "b85c0806-b540-4171-88af-0437663d25b2",
   "metadata": {},
   "outputs": [],
   "source": [
    "a=2"
   ]
  },
  {
   "cell_type": "code",
   "execution_count": 9,
   "id": "a8d48ded-c3a8-47cd-b4e6-b86e88377aa3",
   "metadata": {},
   "outputs": [
    {
     "name": "stdout",
     "output_type": "stream",
     "text": [
      "2\n"
     ]
    }
   ],
   "source": [
    "#library function or inbuilt function\n",
    "print(a)"
   ]
  },
  {
   "cell_type": "code",
   "execution_count": 10,
   "id": "238da675-261a-444c-826c-9f0df96c21c9",
   "metadata": {},
   "outputs": [
    {
     "name": "stdout",
     "output_type": "stream",
     "text": [
      "Amay Ghivare\n"
     ]
    }
   ],
   "source": [
    "print(\"Amay Ghivare\")"
   ]
  },
  {
   "cell_type": "code",
   "execution_count": 11,
   "id": "a924c07a-89aa-4e88-a996-2220ef6e2819",
   "metadata": {},
   "outputs": [],
   "source": [
    "name = \"Amay Ghivare\""
   ]
  },
  {
   "cell_type": "code",
   "execution_count": 12,
   "id": "5941b7cd-1017-4713-b09f-7ad10113cde6",
   "metadata": {},
   "outputs": [
    {
     "name": "stdout",
     "output_type": "stream",
     "text": [
      "Amay Ghivare\n"
     ]
    }
   ],
   "source": [
    "print(name)"
   ]
  },
  {
   "cell_type": "code",
   "execution_count": 13,
   "id": "b89048cc-ea80-4b0e-a043-b00d65722403",
   "metadata": {},
   "outputs": [
    {
     "data": {
      "text/plain": [
       "'Amay Ghivare'"
      ]
     },
     "execution_count": 13,
     "metadata": {},
     "output_type": "execute_result"
    }
   ],
   "source": [
    "name"
   ]
  },
  {
   "cell_type": "code",
   "execution_count": 16,
   "id": "bc64677f-7caa-424b-86cb-2baa196a5298",
   "metadata": {},
   "outputs": [],
   "source": [
    "a,b,c=5,4,7"
   ]
  },
  {
   "cell_type": "code",
   "execution_count": 17,
   "id": "8f7ae3c0-dcca-4f57-9313-8dad1854c098",
   "metadata": {},
   "outputs": [
    {
     "data": {
      "text/plain": [
       "(5, 4, 7)"
      ]
     },
     "execution_count": 17,
     "metadata": {},
     "output_type": "execute_result"
    }
   ],
   "source": [
    "a,b,c"
   ]
  },
  {
   "cell_type": "code",
   "execution_count": 29,
   "id": "b360feb6-aa54-4079-9a47-85ea75ce9e91",
   "metadata": {},
   "outputs": [],
   "source": [
    "a=b=c=7"
   ]
  },
  {
   "cell_type": "code",
   "execution_count": 30,
   "id": "3e790f2c-c87d-47b1-bb28-a9da77164d9f",
   "metadata": {},
   "outputs": [
    {
     "name": "stdout",
     "output_type": "stream",
     "text": [
      "7 7 7\n"
     ]
    }
   ],
   "source": [
    "print(a,b,c)"
   ]
  },
  {
   "cell_type": "code",
   "execution_count": 36,
   "id": "ba4effb0-bcb2-4cf8-a629-4561673f9116",
   "metadata": {},
   "outputs": [
    {
     "name": "stdout",
     "output_type": "stream",
     "text": [
      "7,7,7\n"
     ]
    }
   ],
   "source": [
    "print(a,b,c, sep=\",\") "
   ]
  },
  {
   "cell_type": "raw",
   "id": "de3963d4-d846-4829-85f9-e621d9c00b5d",
   "metadata": {},
   "source": [
    "print(45,67,89, sep=\" \")"
   ]
  },
  {
   "cell_type": "code",
   "execution_count": 47,
   "id": "6060ab14-6cee-47eb-8353-f5d805dcd010",
   "metadata": {},
   "outputs": [
    {
     "name": "stdout",
     "output_type": "stream",
     "text": [
      "Amay Ghivare\tAbhishek Balikai\n"
     ]
    }
   ],
   "source": [
    "print(\"Amay Ghivare\",end='\\t') \n",
    "print(\"Abhishek Balikai\") \n"
   ]
  },
  {
   "cell_type": "code",
   "execution_count": null,
   "id": "abfe25b2-00dd-4cea-b345-210dd696c499",
   "metadata": {},
   "outputs": [
    {
     "name": "stdout",
     "output_type": "stream",
     "text": [
      "enter two numbers\n"
     ]
    }
   ],
   "source": [
    "#write code to add 2 nos.\n",
    "print(\"enter two numbers\")\n",
    "a=int((\"input the value of a\"))\n",
    "b=int((\"input the value of b\"))\n",
    "c=a+b\n",
    "print(c)"
   ]
  },
  {
   "cell_type": "code",
   "execution_count": null,
   "id": "95b02e9e-5992-49c3-88e5-70dfe97a3149",
   "metadata": {},
   "outputs": [],
   "source": []
  },
  {
   "cell_type": "code",
   "execution_count": null,
   "id": "399a31fb-4de0-4424-ace0-f59dcf7e8f0f",
   "metadata": {},
   "outputs": [],
   "source": []
  }
 ],
 "metadata": {
  "kernelspec": {
   "display_name": "Python 3 (ipykernel)",
   "language": "python",
   "name": "python3"
  },
  "language_info": {
   "codemirror_mode": {
    "name": "ipython",
    "version": 3
   },
   "file_extension": ".py",
   "mimetype": "text/x-python",
   "name": "python",
   "nbconvert_exporter": "python",
   "pygments_lexer": "ipython3",
   "version": "3.12.4"
  }
 },
 "nbformat": 4,
 "nbformat_minor": 5
}
