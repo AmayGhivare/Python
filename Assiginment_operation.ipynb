{
 "cells": [
  {
   "cell_type": "code",
   "execution_count": 11,
   "id": "352e52a5-7a00-4115-b878-42fc101d9e1e",
   "metadata": {},
   "outputs": [],
   "source": [
    "name=\"Amay Ghivare\""
   ]
  },
  {
   "cell_type": "code",
   "execution_count": 12,
   "id": "d8b75eb2-28c2-4809-ae02-1a28f5a355d5",
   "metadata": {},
   "outputs": [
    {
     "data": {
      "text/plain": [
       "'Amay Ghivare'"
      ]
     },
     "execution_count": 12,
     "metadata": {},
     "output_type": "execute_result"
    }
   ],
   "source": [
    "name"
   ]
  },
  {
   "cell_type": "code",
   "execution_count": 30,
   "id": "7cef54cd-755b-4132-b162-f51aca1d1fe3",
   "metadata": {},
   "outputs": [],
   "source": [
    "name=name.upper()"
   ]
  },
  {
   "cell_type": "code",
   "execution_count": 31,
   "id": "aba254a3-51db-442b-ab20-760c6e183a96",
   "metadata": {},
   "outputs": [
    {
     "data": {
      "text/plain": [
       "'AMAY GHIVARE'"
      ]
     },
     "execution_count": 31,
     "metadata": {},
     "output_type": "execute_result"
    }
   ],
   "source": [
    "name"
   ]
  },
  {
   "cell_type": "code",
   "execution_count": 32,
   "id": "1008e49a-42be-40b4-ae28-cc01dd393009",
   "metadata": {},
   "outputs": [
    {
     "data": {
      "text/plain": [
       "'AMAY GHIVARE'"
      ]
     },
     "execution_count": 32,
     "metadata": {},
     "output_type": "execute_result"
    }
   ],
   "source": [
    "name"
   ]
  },
  {
   "cell_type": "code",
   "execution_count": 33,
   "id": "274f5b04-3aa5-4ad7-b08f-a5e6e7c9ebf3",
   "metadata": {},
   "outputs": [],
   "source": [
    "name=name.lower()"
   ]
  },
  {
   "cell_type": "code",
   "execution_count": 34,
   "id": "20c7c8d5-0fad-4fd3-beac-15ab61608f55",
   "metadata": {},
   "outputs": [
    {
     "data": {
      "text/plain": [
       "'amay ghivare'"
      ]
     },
     "execution_count": 34,
     "metadata": {},
     "output_type": "execute_result"
    }
   ],
   "source": [
    "name"
   ]
  },
  {
   "cell_type": "code",
   "execution_count": 37,
   "id": "bf0c8929-d75a-4739-8290-a131b32da113",
   "metadata": {},
   "outputs": [],
   "source": [
    "name1=\"AmAy GHiVAre\""
   ]
  },
  {
   "cell_type": "code",
   "execution_count": 38,
   "id": "ff78c7f0-b415-495d-8365-904e37de017f",
   "metadata": {},
   "outputs": [
    {
     "data": {
      "text/plain": [
       "'AmAy GHiVAre'"
      ]
     },
     "execution_count": 38,
     "metadata": {},
     "output_type": "execute_result"
    }
   ],
   "source": [
    "name1"
   ]
  },
  {
   "cell_type": "code",
   "execution_count": 40,
   "id": "404b2d57-68d5-49db-8823-2840f2171492",
   "metadata": {},
   "outputs": [
    {
     "data": {
      "text/plain": [
       "'aMaY ghIvaRE'"
      ]
     },
     "execution_count": 40,
     "metadata": {},
     "output_type": "execute_result"
    }
   ],
   "source": [
    "name1 .swapcase()"
   ]
  },
  {
   "cell_type": "code",
   "execution_count": 42,
   "id": "dfd39485-2eeb-45ff-b032-44a4dd6f94c9",
   "metadata": {},
   "outputs": [
    {
     "data": {
      "text/plain": [
       "'AmAy GHiVAre'"
      ]
     },
     "execution_count": 42,
     "metadata": {},
     "output_type": "execute_result"
    }
   ],
   "source": [
    "name1."
   ]
  },
  {
   "cell_type": "code",
   "execution_count": 43,
   "id": "35bd5e38-d18e-4a29-addd-b57395a210d5",
   "metadata": {},
   "outputs": [],
   "source": [
    "name2=\"   Amay     Ghivare    \""
   ]
  },
  {
   "cell_type": "code",
   "execution_count": 45,
   "id": "e7aceb94-614f-46bf-9de8-8f2020609f54",
   "metadata": {},
   "outputs": [
    {
     "data": {
      "text/plain": [
       "'   Amay     Ghivare    '"
      ]
     },
     "execution_count": 45,
     "metadata": {},
     "output_type": "execute_result"
    }
   ],
   "source": [
    "name2"
   ]
  },
  {
   "cell_type": "code",
   "execution_count": 58,
   "id": "072e63f2-e796-4ca1-ba89-5f6a8048f130",
   "metadata": {},
   "outputs": [
    {
     "data": {
      "text/plain": [
       "'Amay     Ghivare    '"
      ]
     },
     "execution_count": 58,
     "metadata": {},
     "output_type": "execute_result"
    }
   ],
   "source": [
    "name2.lstrip()"
   ]
  },
  {
   "cell_type": "code",
   "execution_count": 59,
   "id": "4aee2a58-bd4d-4ab1-96c6-bae80fc7e4bd",
   "metadata": {},
   "outputs": [
    {
     "data": {
      "text/plain": [
       "'   Amay     Ghivare'"
      ]
     },
     "execution_count": 59,
     "metadata": {},
     "output_type": "execute_result"
    }
   ],
   "source": [
    "name2.rstrip()"
   ]
  },
  {
   "cell_type": "code",
   "execution_count": 60,
   "id": "e7d0e364-375b-48dc-ac6d-79a1d0eb80fd",
   "metadata": {},
   "outputs": [
    {
     "data": {
      "text/plain": [
       "'Amay     Ghivare'"
      ]
     },
     "execution_count": 60,
     "metadata": {},
     "output_type": "execute_result"
    }
   ],
   "source": [
    "name2.strip()"
   ]
  },
  {
   "cell_type": "code",
   "execution_count": 61,
   "id": "9f32edcb-a28f-45ce-90c8-942004c1444f",
   "metadata": {},
   "outputs": [
    {
     "data": {
      "text/plain": [
       "'Amay Ghivare'"
      ]
     },
     "execution_count": 61,
     "metadata": {},
     "output_type": "execute_result"
    }
   ],
   "source": [
    "name3=\"Amay Ghivare\"\n",
    "name3"
   ]
  },
  {
   "cell_type": "code",
   "execution_count": 72,
   "id": "ab2dd48d-d8fb-4b2e-b666-419820489440",
   "metadata": {},
   "outputs": [
    {
     "data": {
      "text/plain": [
       "'*******************Amay Ghivare*******************'"
      ]
     },
     "execution_count": 72,
     "metadata": {},
     "output_type": "execute_result"
    }
   ],
   "source": [
    "name3.center(50,\"*\")"
   ]
  },
  {
   "cell_type": "code",
   "execution_count": 77,
   "id": "f0e9111b-ac84-49fe-a382-ed24c59a38a4",
   "metadata": {},
   "outputs": [],
   "source": [
    "name4=\"amay ghivare\""
   ]
  },
  {
   "cell_type": "code",
   "execution_count": 78,
   "id": "a2f6cbf1-4ffa-4d4a-94ac-992adaa52162",
   "metadata": {},
   "outputs": [
    {
     "data": {
      "text/plain": [
       "'amay ghivare'"
      ]
     },
     "execution_count": 78,
     "metadata": {},
     "output_type": "execute_result"
    }
   ],
   "source": [
    "name4"
   ]
  },
  {
   "cell_type": "code",
   "execution_count": 79,
   "id": "b253f51b-f297-4f7f-984d-e25f4d28ca3f",
   "metadata": {},
   "outputs": [
    {
     "data": {
      "text/plain": [
       "True"
      ]
     },
     "execution_count": 79,
     "metadata": {},
     "output_type": "execute_result"
    }
   ],
   "source": [
    "name4.islower()"
   ]
  },
  {
   "cell_type": "code",
   "execution_count": 80,
   "id": "dd2c95c4-76e3-4089-bc7e-c48c34d1d770",
   "metadata": {},
   "outputs": [
    {
     "data": {
      "text/plain": [
       "False"
      ]
     },
     "execution_count": 80,
     "metadata": {},
     "output_type": "execute_result"
    }
   ],
   "source": [
    "name4.isupper()"
   ]
  },
  {
   "cell_type": "code",
   "execution_count": 81,
   "id": "87fe2ee9-9d50-478d-8b56-d1361c185c38",
   "metadata": {},
   "outputs": [
    {
     "data": {
      "text/plain": [
       "False"
      ]
     },
     "execution_count": 81,
     "metadata": {},
     "output_type": "execute_result"
    }
   ],
   "source": [
    "name4.isspace()"
   ]
  },
  {
   "cell_type": "code",
   "execution_count": 82,
   "id": "07025871-f53d-4a87-ab16-6e0f41ae3da2",
   "metadata": {},
   "outputs": [],
   "source": [
    "a=\"     \""
   ]
  },
  {
   "cell_type": "code",
   "execution_count": 83,
   "id": "7bbc0410-dc38-4af6-890f-0660c76527b9",
   "metadata": {},
   "outputs": [
    {
     "data": {
      "text/plain": [
       "True"
      ]
     },
     "execution_count": 83,
     "metadata": {},
     "output_type": "execute_result"
    }
   ],
   "source": [
    "a.isspace()"
   ]
  },
  {
   "cell_type": "code",
   "execution_count": null,
   "id": "1cad89e1-1c68-479a-8f3a-d8eb9017b261",
   "metadata": {},
   "outputs": [],
   "source": []
  }
 ],
 "metadata": {
  "kernelspec": {
   "display_name": "Python 3 (ipykernel)",
   "language": "python",
   "name": "python3"
  },
  "language_info": {
   "codemirror_mode": {
    "name": "ipython",
    "version": 3
   },
   "file_extension": ".py",
   "mimetype": "text/x-python",
   "name": "python",
   "nbconvert_exporter": "python",
   "pygments_lexer": "ipython3",
   "version": "3.12.4"
  }
 },
 "nbformat": 4,
 "nbformat_minor": 5
}
