{
 "cells": [
  {
   "cell_type": "code",
   "execution_count": 1,
   "id": "9d91323d-d540-4f2f-8ac4-bf80e69770b3",
   "metadata": {},
   "outputs": [],
   "source": [
    "name=\"Prasanna babar\""
   ]
  },
  {
   "cell_type": "code",
   "execution_count": 2,
   "id": "06d15360-1c9d-4c48-99f1-612e363f3090",
   "metadata": {},
   "outputs": [
    {
     "data": {
      "text/plain": [
       "'Prasanna babar'"
      ]
     },
     "execution_count": 2,
     "metadata": {},
     "output_type": "execute_result"
    }
   ],
   "source": [
    "name"
   ]
  },
  {
   "cell_type": "code",
   "execution_count": 3,
   "id": "a5f19109-e8b7-4db1-9f47-3456ffbb631d",
   "metadata": {},
   "outputs": [
    {
     "data": {
      "text/plain": [
       "'n'"
      ]
     },
     "execution_count": 3,
     "metadata": {},
     "output_type": "execute_result"
    }
   ],
   "source": [
    "name[6]"
   ]
  },
  {
   "cell_type": "code",
   "execution_count": 4,
   "id": "07d904e9-11c3-4dfc-a62f-f8562a2f4235",
   "metadata": {},
   "outputs": [
    {
     "data": {
      "text/plain": [
       "''"
      ]
     },
     "execution_count": 4,
     "metadata": {},
     "output_type": "execute_result"
    }
   ],
   "source": [
    "name[6:-1:-2]"
   ]
  },
  {
   "cell_type": "code",
   "execution_count": 8,
   "id": "b68333e1-f572-4bcf-a84f-3b8de57843ad",
   "metadata": {},
   "outputs": [
    {
     "data": {
      "text/plain": [
       "' annas'"
      ]
     },
     "execution_count": 8,
     "metadata": {},
     "output_type": "execute_result"
    }
   ],
   "source": [
    "name[-6:2:-1]"
   ]
  },
  {
   "cell_type": "code",
   "execution_count": 10,
   "id": "a9d59ccf-caf3-4876-b532-51b2bb865d05",
   "metadata": {},
   "outputs": [
    {
     "data": {
      "text/plain": [
       "'anna ba'"
      ]
     },
     "execution_count": 10,
     "metadata": {},
     "output_type": "execute_result"
    }
   ],
   "source": [
    "name[-10:-3:1]"
   ]
  },
  {
   "cell_type": "code",
   "execution_count": 11,
   "id": "c669aa25-fed0-42e5-8570-0ff417e942de",
   "metadata": {},
   "outputs": [
    {
     "data": {
      "text/plain": [
       "'b'"
      ]
     },
     "execution_count": 11,
     "metadata": {},
     "output_type": "execute_result"
    }
   ],
   "source": [
    "name[-3:-1:2]"
   ]
  },
  {
   "cell_type": "code",
   "execution_count": 12,
   "id": "7823980f-af23-4643-a61b-c7f220ebda3e",
   "metadata": {},
   "outputs": [
    {
     "data": {
      "text/plain": [
       "''"
      ]
     },
     "execution_count": 12,
     "metadata": {},
     "output_type": "execute_result"
    }
   ],
   "source": [
    "name[-5:3:1]"
   ]
  },
  {
   "cell_type": "code",
   "execution_count": 17,
   "id": "64c103f2-bdba-4e25-ba36-8961f43e6df2",
   "metadata": {},
   "outputs": [
    {
     "data": {
      "text/plain": [
       "''"
      ]
     },
     "execution_count": 17,
     "metadata": {},
     "output_type": "execute_result"
    }
   ],
   "source": [
    "name[-9:10:-1]"
   ]
  },
  {
   "cell_type": "code",
   "execution_count": 14,
   "id": "e39d4905-d80f-4e0c-bcf7-93cbc16f6c17",
   "metadata": {},
   "outputs": [
    {
     "data": {
      "text/plain": [
       "'na ba'"
      ]
     },
     "execution_count": 14,
     "metadata": {},
     "output_type": "execute_result"
    }
   ],
   "source": [
    "name[-8:11]"
   ]
  },
  {
   "cell_type": "code",
   "execution_count": 15,
   "id": "6dca4ace-3630-48a6-bd47-29288041ea45",
   "metadata": {},
   "outputs": [
    {
     "data": {
      "text/plain": [
       "'r'"
      ]
     },
     "execution_count": 15,
     "metadata": {},
     "output_type": "execute_result"
    }
   ],
   "source": [
    "name[13]"
   ]
  },
  {
   "cell_type": "code",
   "execution_count": 16,
   "id": "bdc6a9bc-17dd-4211-ac2f-f4bdd2fb6304",
   "metadata": {},
   "outputs": [
    {
     "data": {
      "text/plain": [
       "'na bab'"
      ]
     },
     "execution_count": 16,
     "metadata": {},
     "output_type": "execute_result"
    }
   ],
   "source": [
    "name[6:-2]"
   ]
  },
  {
   "cell_type": "code",
   "execution_count": 24,
   "id": "a42fa0b1-41d4-447c-8276-d940ca0ef404",
   "metadata": {},
   "outputs": [],
   "source": [
    "name1=\"Amay Ghivare\""
   ]
  },
  {
   "cell_type": "code",
   "execution_count": 25,
   "id": "301ac45f-ca6f-465f-b936-4fe9c9ef8024",
   "metadata": {},
   "outputs": [
    {
     "data": {
      "text/plain": [
       "'Amay Ghivare'"
      ]
     },
     "execution_count": 25,
     "metadata": {},
     "output_type": "execute_result"
    }
   ],
   "source": [
    "name1"
   ]
  },
  {
   "cell_type": "code",
   "execution_count": 29,
   "id": "1ac360c9-87be-4161-a578-5e8fec516160",
   "metadata": {},
   "outputs": [
    {
     "data": {
      "text/plain": [
       "'eravihG yamA'"
      ]
     },
     "execution_count": 29,
     "metadata": {},
     "output_type": "execute_result"
    }
   ],
   "source": [
    "name1[::-1]"
   ]
  },
  {
   "cell_type": "code",
   "execution_count": 31,
   "id": "8a70a7af-3760-421f-ad4d-6592e26fc571",
   "metadata": {},
   "outputs": [
    {
     "data": {
      "text/plain": [
       "'Amay Ghivare1511'"
      ]
     },
     "execution_count": 31,
     "metadata": {},
     "output_type": "execute_result"
    }
   ],
   "source": [
    "name1+\"1511\""
   ]
  },
  {
   "cell_type": "code",
   "execution_count": 32,
   "id": "eb39a8ad-6b7d-44da-92a8-1ffbcefaed5b",
   "metadata": {},
   "outputs": [
    {
     "data": {
      "text/plain": [
       "'Amay Ghivare1511'"
      ]
     },
     "execution_count": 32,
     "metadata": {},
     "output_type": "execute_result"
    }
   ],
   "source": [
    "name1+str(1511)"
   ]
  },
  {
   "cell_type": "code",
   "execution_count": 34,
   "id": "4e752928-34d3-4f6c-9c73-b156f6db49e9",
   "metadata": {},
   "outputs": [
    {
     "data": {
      "text/plain": [
       "12"
      ]
     },
     "execution_count": 34,
     "metadata": {},
     "output_type": "execute_result"
    }
   ],
   "source": [
    "len(name1)"
   ]
  },
  {
   "cell_type": "code",
   "execution_count": 37,
   "id": "fad2de11-7c0e-43cf-9dfc-adeb0470a7cf",
   "metadata": {},
   "outputs": [
    {
     "data": {
      "text/plain": [
       "'Amay GhivareAmay GhivareAmay GhivareAmay GhivareAmay GhivareAmay GhivareAmay GhivareAmay GhivareAmay GhivareAmay Ghivare'"
      ]
     },
     "execution_count": 37,
     "metadata": {},
     "output_type": "execute_result"
    }
   ],
   "source": [
    "name*10"
   ]
  },
  {
   "cell_type": "code",
   "execution_count": 42,
   "id": "5baace76-df01-4dae-bd15-a84e5b29b8cf",
   "metadata": {},
   "outputs": [
    {
     "data": {
      "text/plain": [
       "1"
      ]
     },
     "execution_count": 42,
     "metadata": {},
     "output_type": "execute_result"
    }
   ],
   "source": [
    "name1.count('A')"
   ]
  },
  {
   "cell_type": "code",
   "execution_count": 43,
   "id": "544a8993-97c7-45a1-b7c4-b90deaf60c34",
   "metadata": {},
   "outputs": [
    {
     "data": {
      "text/plain": [
       "['Am', 'y Ghiv', 're']"
      ]
     },
     "execution_count": 43,
     "metadata": {},
     "output_type": "execute_result"
    }
   ],
   "source": [
    "name1.split(\"a\")"
   ]
  },
  {
   "cell_type": "code",
   "execution_count": 44,
   "id": "ca9c1901-9f4e-43ca-9757-f13e2c5a5eb0",
   "metadata": {},
   "outputs": [
    {
     "data": {
      "text/plain": [
       "list"
      ]
     },
     "execution_count": 44,
     "metadata": {},
     "output_type": "execute_result"
    }
   ],
   "source": [
    "type(name1.split(\"a\"))"
   ]
  },
  {
   "cell_type": "code",
   "execution_count": 49,
   "id": "dbb7e848-1987-4732-a699-a2e10589d96b",
   "metadata": {},
   "outputs": [],
   "source": [
    "name2=\"Lorem Ipsum is simply dummy text of the printing and typesetting industry. Lorem Ipsum has been the industry's standard dummy text ever since the 1500s, when an unknown printer took a galley of type and scrambled it to make a type specimen book. It has survived not only five centuries, but also the leap into electronic typesetting, remaining essentially unchanged. It was popularised in the 1960s with the release of Letraset sheets containing Lorem Ipsum passages, and more recently with desktop publishing software like Aldus PageMaker including versions of Lorem Ipsum.\""
   ]
  },
  {
   "cell_type": "code",
   "execution_count": 54,
   "id": "c3822d3f-7673-4bb8-a28e-0d6010cc7bad",
   "metadata": {},
   "outputs": [
    {
     "data": {
      "text/plain": [
       "['Lorem',\n",
       " 'Ipsum',\n",
       " 'is',\n",
       " 'simply',\n",
       " 'dummy',\n",
       " 'text',\n",
       " 'of',\n",
       " 'the',\n",
       " 'printing',\n",
       " 'and',\n",
       " 'typesetting',\n",
       " 'industry.',\n",
       " 'Lorem',\n",
       " 'Ipsum',\n",
       " 'has',\n",
       " 'been',\n",
       " 'the',\n",
       " \"industry's\",\n",
       " 'standard',\n",
       " 'dummy',\n",
       " 'text',\n",
       " 'ever',\n",
       " 'since',\n",
       " 'the',\n",
       " '1500s,',\n",
       " 'when',\n",
       " 'an',\n",
       " 'unknown',\n",
       " 'printer',\n",
       " 'took',\n",
       " 'a',\n",
       " 'galley',\n",
       " 'of',\n",
       " 'type',\n",
       " 'and',\n",
       " 'scrambled',\n",
       " 'it',\n",
       " 'to',\n",
       " 'make',\n",
       " 'a',\n",
       " 'type',\n",
       " 'specimen',\n",
       " 'book.',\n",
       " 'It',\n",
       " 'has',\n",
       " 'survived',\n",
       " 'not',\n",
       " 'only',\n",
       " 'five',\n",
       " 'centuries,',\n",
       " 'but',\n",
       " 'also',\n",
       " 'the',\n",
       " 'leap',\n",
       " 'into',\n",
       " 'electronic',\n",
       " 'typesetting,',\n",
       " 'remaining',\n",
       " 'essentially',\n",
       " 'unchanged.',\n",
       " 'It',\n",
       " 'was',\n",
       " 'popularised',\n",
       " 'in',\n",
       " 'the',\n",
       " '1960s',\n",
       " 'with',\n",
       " 'the',\n",
       " 'release',\n",
       " 'of',\n",
       " 'Letraset',\n",
       " 'sheets',\n",
       " 'containing',\n",
       " 'Lorem',\n",
       " 'Ipsum',\n",
       " 'passages,',\n",
       " 'and',\n",
       " 'more',\n",
       " 'recently',\n",
       " 'with',\n",
       " 'desktop',\n",
       " 'publishing',\n",
       " 'software',\n",
       " 'like',\n",
       " 'Aldus',\n",
       " 'PageMaker',\n",
       " 'including',\n",
       " 'versions',\n",
       " 'of',\n",
       " 'Lorem',\n",
       " 'Ipsum.']"
      ]
     },
     "execution_count": 54,
     "metadata": {},
     "output_type": "execute_result"
    }
   ],
   "source": [
    "name2.split(\" \")"
   ]
  },
  {
   "cell_type": "code",
   "execution_count": null,
   "id": "e2fe17cf-6ce2-4eb9-9357-78185d4c0678",
   "metadata": {},
   "outputs": [],
   "source": []
  }
 ],
 "metadata": {
  "kernelspec": {
   "display_name": "Python 3 (ipykernel)",
   "language": "python",
   "name": "python3"
  },
  "language_info": {
   "codemirror_mode": {
    "name": "ipython",
    "version": 3
   },
   "file_extension": ".py",
   "mimetype": "text/x-python",
   "name": "python",
   "nbconvert_exporter": "python",
   "pygments_lexer": "ipython3",
   "version": "3.12.4"
  }
 },
 "nbformat": 4,
 "nbformat_minor": 5
}
