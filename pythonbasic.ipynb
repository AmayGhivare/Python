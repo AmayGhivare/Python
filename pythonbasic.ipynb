{
 "cells": [
  {
   "cell_type": "code",
   "execution_count": 1,
   "id": "501fe110-4a7f-4b80-b252-e86688f97845",
   "metadata": {},
   "outputs": [],
   "source": [
    "name = \"Amay\""
   ]
  },
  {
   "cell_type": "code",
   "execution_count": 2,
   "id": "9c9fd5c8-9a3e-4060-97a9-3ff1dd2675f9",
   "metadata": {},
   "outputs": [
    {
     "data": {
      "text/plain": [
       "'Amay'"
      ]
     },
     "execution_count": 2,
     "metadata": {},
     "output_type": "execute_result"
    }
   ],
   "source": [
    "name"
   ]
  },
  {
   "cell_type": "code",
   "execution_count": 3,
   "id": "563c1fae-6bf9-4c49-bebd-cd207b688e9d",
   "metadata": {},
   "outputs": [
    {
     "data": {
      "text/plain": [
       "str"
      ]
     },
     "execution_count": 3,
     "metadata": {},
     "output_type": "execute_result"
    }
   ],
   "source": [
    "type(name)"
   ]
  },
  {
   "cell_type": "code",
   "execution_count": 4,
   "id": "e8a63077-b03c-42d1-9118-665a22905e7c",
   "metadata": {},
   "outputs": [],
   "source": [
    "a=2\n"
   ]
  },
  {
   "cell_type": "code",
   "execution_count": 5,
   "id": "3f477a48-3596-4c0e-ade2-9ebdadedf7ac",
   "metadata": {},
   "outputs": [
    {
     "data": {
      "text/plain": [
       "2"
      ]
     },
     "execution_count": 5,
     "metadata": {},
     "output_type": "execute_result"
    }
   ],
   "source": [
    "a"
   ]
  },
  {
   "cell_type": "code",
   "execution_count": 6,
   "id": "a92ea839-e9fb-4910-bc7d-714a83a7f4fa",
   "metadata": {},
   "outputs": [
    {
     "data": {
      "text/plain": [
       "int"
      ]
     },
     "execution_count": 6,
     "metadata": {},
     "output_type": "execute_result"
    }
   ],
   "source": [
    "type(a)"
   ]
  },
  {
   "cell_type": "code",
   "execution_count": 7,
   "id": "95512793-7e94-4bd0-8a76-63113f23e975",
   "metadata": {},
   "outputs": [],
   "source": [
    "a=6.39"
   ]
  },
  {
   "cell_type": "code",
   "execution_count": 8,
   "id": "f882395b-2071-487f-b9b8-e31c65d14a22",
   "metadata": {},
   "outputs": [
    {
     "data": {
      "text/plain": [
       "6.39"
      ]
     },
     "execution_count": 8,
     "metadata": {},
     "output_type": "execute_result"
    }
   ],
   "source": [
    "a"
   ]
  },
  {
   "cell_type": "code",
   "execution_count": 9,
   "id": "f1f4087a-7760-492a-abec-e72dcc834513",
   "metadata": {},
   "outputs": [],
   "source": [
    "a=6.22"
   ]
  },
  {
   "cell_type": "code",
   "execution_count": 10,
   "id": "0d3e96c0-a96f-4983-ab00-0e1fc58c0bfe",
   "metadata": {},
   "outputs": [
    {
     "data": {
      "text/plain": [
       "6.22"
      ]
     },
     "execution_count": 10,
     "metadata": {},
     "output_type": "execute_result"
    }
   ],
   "source": [
    "a"
   ]
  },
  {
   "cell_type": "code",
   "execution_count": null,
   "id": "8aeb29b1-2a7c-481c-854b-26b964293165",
   "metadata": {},
   "outputs": [],
   "source": [
    "a=2.44"
   ]
  },
  {
   "cell_type": "code",
   "execution_count": 11,
   "id": "3782b4c7-95b3-44bb-88ae-61e7e5709e9e",
   "metadata": {},
   "outputs": [
    {
     "data": {
      "text/plain": [
       "6.22"
      ]
     },
     "execution_count": 11,
     "metadata": {},
     "output_type": "execute_result"
    }
   ],
   "source": [
    "a"
   ]
  },
  {
   "cell_type": "code",
   "execution_count": 12,
   "id": "5269aaf6-7d90-476a-bdca-b1f71e9ab49d",
   "metadata": {},
   "outputs": [
    {
     "data": {
      "text/plain": [
       "float"
      ]
     },
     "execution_count": 12,
     "metadata": {},
     "output_type": "execute_result"
    }
   ],
   "source": [
    "type(a)"
   ]
  },
  {
   "cell_type": "code",
   "execution_count": 13,
   "id": "b548d7ca-6756-4f3f-b06d-aae4377ed23f",
   "metadata": {},
   "outputs": [],
   "source": [
    "a=7+9j"
   ]
  },
  {
   "cell_type": "code",
   "execution_count": 14,
   "id": "03cd977b-9210-4678-9861-06b4a7fbf47e",
   "metadata": {},
   "outputs": [
    {
     "data": {
      "text/plain": [
       "(7+9j)"
      ]
     },
     "execution_count": 14,
     "metadata": {},
     "output_type": "execute_result"
    }
   ],
   "source": [
    "a"
   ]
  },
  {
   "cell_type": "code",
   "execution_count": 16,
   "id": "03502297-9331-4026-b6c5-0b1489a4110a",
   "metadata": {},
   "outputs": [
    {
     "data": {
      "text/plain": [
       "complex"
      ]
     },
     "execution_count": 16,
     "metadata": {},
     "output_type": "execute_result"
    }
   ],
   "source": [
    "type(a)"
   ]
  },
  {
   "cell_type": "markdown",
   "id": "4ac41ebb-bfa7-4d4f-8f66-0323d84f8d50",
   "metadata": {},
   "source": [
    "1+68"
   ]
  },
  {
   "cell_type": "code",
   "execution_count": 17,
   "id": "229e2a5c-1876-463a-96c4-bb3d3940438f",
   "metadata": {},
   "outputs": [
    {
     "data": {
      "text/plain": [
       "69"
      ]
     },
     "execution_count": 17,
     "metadata": {},
     "output_type": "execute_result"
    }
   ],
   "source": [
    "1+68"
   ]
  },
  {
   "cell_type": "code",
   "execution_count": 18,
   "id": "ac04bb17-90b9-4404-8d29-6baa4566cbf4",
   "metadata": {},
   "outputs": [
    {
     "data": {
      "text/plain": [
       "(7+9j)"
      ]
     },
     "execution_count": 18,
     "metadata": {},
     "output_type": "execute_result"
    }
   ],
   "source": [
    "a"
   ]
  },
  {
   "cell_type": "code",
   "execution_count": 23,
   "id": "1a086c1c-dd5d-4e1b-8072-e40d2dd928a2",
   "metadata": {},
   "outputs": [],
   "source": [
    "n=a+a"
   ]
  },
  {
   "cell_type": "code",
   "execution_count": 24,
   "id": "e7a146d6-4c7c-4ab7-aafd-ff0d635505b3",
   "metadata": {},
   "outputs": [
    {
     "data": {
      "text/plain": [
       "(14+18j)"
      ]
     },
     "execution_count": 24,
     "metadata": {},
     "output_type": "execute_result"
    }
   ],
   "source": [
    "n"
   ]
  },
  {
   "cell_type": "code",
   "execution_count": 28,
   "id": "f6d9b4ce-914f-4f5c-8f32-fcc9aa540706",
   "metadata": {},
   "outputs": [],
   "source": [
    "n=a*a"
   ]
  },
  {
   "cell_type": "code",
   "execution_count": 29,
   "id": "8d0c46c9-16d6-46a4-8b42-b08ee92d8ca3",
   "metadata": {},
   "outputs": [
    {
     "data": {
      "text/plain": [
       "(-32+126j)"
      ]
     },
     "execution_count": 29,
     "metadata": {},
     "output_type": "execute_result"
    }
   ],
   "source": [
    "n"
   ]
  },
  {
   "cell_type": "code",
   "execution_count": 30,
   "id": "48fa8681-e6ef-4577-b179-35d50aa87364",
   "metadata": {},
   "outputs": [
    {
     "data": {
      "text/plain": [
       "(1+0j)"
      ]
     },
     "execution_count": 30,
     "metadata": {},
     "output_type": "execute_result"
    }
   ],
   "source": [
    "a/a"
   ]
  },
  {
   "cell_type": "code",
   "execution_count": 32,
   "id": "fd0ad18e-2694-4ba8-9d81-4cea86064d61",
   "metadata": {},
   "outputs": [
    {
     "data": {
      "text/plain": [
       "1"
      ]
     },
     "execution_count": 32,
     "metadata": {},
     "output_type": "execute_result"
    }
   ],
   "source": [
    "True-False"
   ]
  },
  {
   "cell_type": "code",
   "execution_count": 34,
   "id": "c8e41502-5b79-4368-a3a1-beee48672351",
   "metadata": {},
   "outputs": [],
   "source": [
    "a=True"
   ]
  },
  {
   "cell_type": "code",
   "execution_count": 35,
   "id": "01dbad33-b47a-41c4-80ae-3cb7701be2d2",
   "metadata": {},
   "outputs": [
    {
     "data": {
      "text/plain": [
       "bool"
      ]
     },
     "execution_count": 35,
     "metadata": {},
     "output_type": "execute_result"
    }
   ],
   "source": [
    "type(a)"
   ]
  },
  {
   "cell_type": "code",
   "execution_count": 36,
   "id": "11f1c15f-59a4-4acd-856b-dc853947da54",
   "metadata": {},
   "outputs": [
    {
     "data": {
      "text/plain": [
       "-1"
      ]
     },
     "execution_count": 36,
     "metadata": {},
     "output_type": "execute_result"
    }
   ],
   "source": [
    "False-True"
   ]
  },
  {
   "cell_type": "code",
   "execution_count": 37,
   "id": "bc9ed91f-d693-4d01-8f13-35f1a457630c",
   "metadata": {},
   "outputs": [
    {
     "data": {
      "text/plain": [
       "0.0"
      ]
     },
     "execution_count": 37,
     "metadata": {},
     "output_type": "execute_result"
    }
   ],
   "source": [
    "False/2"
   ]
  },
  {
   "cell_type": "code",
   "execution_count": 38,
   "id": "e3c8f26d-4dc3-41c0-9985-56bc3a91e35e",
   "metadata": {},
   "outputs": [
    {
     "data": {
      "text/plain": [
       "0"
      ]
     },
     "execution_count": 38,
     "metadata": {},
     "output_type": "execute_result"
    }
   ],
   "source": [
    "False*True"
   ]
  },
  {
   "cell_type": "code",
   "execution_count": 39,
   "id": "aeb322a3-e54f-4485-bec8-7108a3be9a31",
   "metadata": {},
   "outputs": [
    {
     "data": {
      "text/plain": [
       "0"
      ]
     },
     "execution_count": 39,
     "metadata": {},
     "output_type": "execute_result"
    }
   ],
   "source": [
    "False*2"
   ]
  },
  {
   "cell_type": "code",
   "execution_count": 40,
   "id": "19928284-4cf6-472e-82c8-40decab3eec8",
   "metadata": {},
   "outputs": [
    {
     "data": {
      "text/plain": [
       "0.0"
      ]
     },
     "execution_count": 40,
     "metadata": {},
     "output_type": "execute_result"
    }
   ],
   "source": [
    "False/True"
   ]
  },
  {
   "cell_type": "code",
   "execution_count": 41,
   "id": "d87ba1eb-3c89-400c-8654-88cad1cd416c",
   "metadata": {},
   "outputs": [
    {
     "ename": "ZeroDivisionError",
     "evalue": "division by zero",
     "output_type": "error",
     "traceback": [
      "\u001b[0;31m---------------------------------------------------------------------------\u001b[0m",
      "\u001b[0;31mZeroDivisionError\u001b[0m                         Traceback (most recent call last)",
      "Cell \u001b[0;32mIn[41], line 1\u001b[0m\n\u001b[0;32m----> 1\u001b[0m \u001b[38;5;28;01mTrue\u001b[39;00m\u001b[38;5;241m/\u001b[39m\u001b[38;5;28;01mFalse\u001b[39;00m\n",
      "\u001b[0;31mZeroDivisionError\u001b[0m: division by zero"
     ]
    }
   ],
   "source": [
    "True/False"
   ]
  },
  {
   "cell_type": "code",
   "execution_count": 42,
   "id": "9d0658af-2da0-476e-a596-63db10a71fd3",
   "metadata": {},
   "outputs": [],
   "source": [
    "name=\"Amay Ghivare\""
   ]
  },
  {
   "cell_type": "code",
   "execution_count": 43,
   "id": "a8733162-53de-4120-a62a-ef5f1618d6d5",
   "metadata": {},
   "outputs": [
    {
     "data": {
      "text/plain": [
       "'Amay Ghivare'"
      ]
     },
     "execution_count": 43,
     "metadata": {},
     "output_type": "execute_result"
    }
   ],
   "source": [
    "name"
   ]
  },
  {
   "cell_type": "code",
   "execution_count": 46,
   "id": "2b52516a-0f0d-4547-98ec-bc42daf6f0b0",
   "metadata": {},
   "outputs": [
    {
     "data": {
      "text/plain": [
       "'Amay Ghivare'"
      ]
     },
     "execution_count": 46,
     "metadata": {},
     "output_type": "execute_result"
    }
   ],
   "source": [
    "name[0:12]"
   ]
  },
  {
   "cell_type": "code",
   "execution_count": 48,
   "id": "6523d0ad-6f4e-47aa-9633-932b8895dda3",
   "metadata": {},
   "outputs": [
    {
     "data": {
      "text/plain": [
       "'ay Ghivare'"
      ]
     },
     "execution_count": 48,
     "metadata": {},
     "output_type": "execute_result"
    }
   ],
   "source": [
    "name[2:12]"
   ]
  },
  {
   "cell_type": "code",
   "execution_count": 49,
   "id": "582c4cf0-ddc6-41d2-86e1-423201935f22",
   "metadata": {},
   "outputs": [
    {
     "data": {
      "text/plain": [
       "''"
      ]
     },
     "execution_count": 49,
     "metadata": {},
     "output_type": "execute_result"
    }
   ],
   "source": [
    "name[90:2]"
   ]
  },
  {
   "cell_type": "code",
   "execution_count": 57,
   "id": "fbdaba17-11b1-4d1a-8274-8317b492e928",
   "metadata": {},
   "outputs": [
    {
     "data": {
      "text/plain": [
       "'Aa hvr'"
      ]
     },
     "execution_count": 57,
     "metadata": {},
     "output_type": "execute_result"
    }
   ],
   "source": [
    "name[0:15:2]"
   ]
  },
  {
   "cell_type": "code",
   "execution_count": null,
   "id": "4362c280-f563-4e83-aaa3-b8ce15e97a77",
   "metadata": {},
   "outputs": [],
   "source": []
  },
  {
   "cell_type": "code",
   "execution_count": 55,
   "id": "c6986fac-223e-4caf-83e5-b4d34377980f",
   "metadata": {},
   "outputs": [
    {
     "data": {
      "text/plain": [
       "'Amay Ghivare'"
      ]
     },
     "execution_count": 55,
     "metadata": {},
     "output_type": "execute_result"
    }
   ],
   "source": [
    "name"
   ]
  },
  {
   "cell_type": "markdown",
   "id": "5c265474-09da-4285-a0ec-9a157dc64c4f",
   "metadata": {},
   "source": [
    "name[15:5]"
   ]
  },
  {
   "cell_type": "code",
   "execution_count": 58,
   "id": "327f9eeb-4d49-49aa-97f9-43b1340136d0",
   "metadata": {},
   "outputs": [
    {
     "data": {
      "text/plain": [
       "''"
      ]
     },
     "execution_count": 58,
     "metadata": {},
     "output_type": "execute_result"
    }
   ],
   "source": [
    "name[15:5]"
   ]
  },
  {
   "cell_type": "markdown",
   "id": "6510e4bc-02dc-49c4-8bab-282bf8caea67",
   "metadata": {},
   "source": []
  },
  {
   "cell_type": "code",
   "execution_count": 61,
   "id": "d4ea54ba-a417-4c74-ac46-a467ec477d87",
   "metadata": {},
   "outputs": [
    {
     "data": {
      "text/plain": [
       "'eravih'"
      ]
     },
     "execution_count": 61,
     "metadata": {},
     "output_type": "execute_result"
    }
   ],
   "source": [
    "name[15:5:-1]"
   ]
  },
  {
   "cell_type": "code",
   "execution_count": 62,
   "id": "9245f8ab-c3e6-4b94-b5aa-897e2be90e56",
   "metadata": {},
   "outputs": [
    {
     "data": {
      "text/plain": [
       "'ihG yamA'"
      ]
     },
     "execution_count": 62,
     "metadata": {},
     "output_type": "execute_result"
    }
   ],
   "source": [
    "name[-5:-15:-1]"
   ]
  },
  {
   "cell_type": "code",
   "execution_count": 64,
   "id": "0adba2cf-c5db-4f08-85b1-e65ec013773c",
   "metadata": {},
   "outputs": [
    {
     "data": {
      "text/plain": [
       "'eravihG yamA'"
      ]
     },
     "execution_count": 64,
     "metadata": {},
     "output_type": "execute_result"
    }
   ],
   "source": [
    "name[-1:-13:-1]"
   ]
  },
  {
   "cell_type": "code",
   "execution_count": null,
   "id": "4309c363-cf13-4c51-b250-9e0ed5a0c674",
   "metadata": {},
   "outputs": [],
   "source": []
  }
 ],
 "metadata": {
  "kernelspec": {
   "display_name": "Python 3 (ipykernel)",
   "language": "python",
   "name": "python3"
  },
  "language_info": {
   "codemirror_mode": {
    "name": "ipython",
    "version": 3
   },
   "file_extension": ".py",
   "mimetype": "text/x-python",
   "name": "python",
   "nbconvert_exporter": "python",
   "pygments_lexer": "ipython3",
   "version": "3.12.4"
  }
 },
 "nbformat": 4,
 "nbformat_minor": 5
}
