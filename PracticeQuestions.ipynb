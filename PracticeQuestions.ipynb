{
 "cells": [
  {
   "cell_type": "raw",
   "id": "2d620cfd-72db-487c-b21c-b4fdf6926fc2",
   "metadata": {},
   "source": [
    "s=\"this is My First Python programming class and i am learNING python string and its function\" \n",
    "1. Try to extract data from index one to index 300 with a jump of 3\n",
    "2. Try to reverse a string without using reverse function \n",
    "3. Try to split a string after conversion of entire string in uppercase \n",
    "4. try to convert the whole string into lower case\n",
    "5. Try to capitalize the whole string\n",
    "6. Write a diference between isalnum() and isalpha()\n",
    "7. Try to give an example of expand tab \n",
    "8. Give an example of strip, Istrip and rstrip \n",
    "9. Replace a string charecter by another charector by taking your own example \"Your Name\" I\n",
    "10. Try to give a defination of string center function with and exmple\n",
    "11. Write your own definition of compiler and interpretor without copy paste form internet in your own language\n",
    "12. Python is a interpreted of compiled language give a clear ans with your understanding \n",
    "13. Try to write a usecase of python with your understanding."
   ]
  },
  {
   "cell_type": "code",
   "execution_count": 1,
   "id": "f2f7fd24-0588-475a-9a63-ca7526e619ae",
   "metadata": {},
   "outputs": [],
   "source": [
    "s= \"this is My First Python programming class and i am learNING python string and its function\""
   ]
  },
  {
   "cell_type": "markdown",
   "id": "1e5c5ee6-215b-4008-87d6-007dccaefd04",
   "metadata": {},
   "source": [
    "## 1. Try to extract data from index one to index 300 with a jump of 3"
   ]
  },
  {
   "cell_type": "code",
   "execution_count": 4,
   "id": "503c7d10-667a-42a9-b958-c45c2f4fad9e",
   "metadata": {},
   "outputs": [
    {
     "data": {
      "text/plain": [
       "'h   r tnrrmglsnimeNGyosi dtfco'"
      ]
     },
     "execution_count": 4,
     "metadata": {},
     "output_type": "execute_result"
    }
   ],
   "source": [
    "s[1:301:3]"
   ]
  },
  {
   "cell_type": "markdown",
   "id": "65b3a204-ea96-45bb-879d-ed8ea82972ba",
   "metadata": {},
   "source": [
    "## 2. Try to reverse a string without using reverse function "
   ]
  },
  {
   "cell_type": "code",
   "execution_count": 7,
   "id": "bb95f4a3-20e3-4a30-8166-04c63a8a0cb9",
   "metadata": {},
   "outputs": [
    {
     "data": {
      "text/plain": [
       "'noitcnuf sti dna gnirts nohtyp GNINrael ma i dna ssalc gnimmargorp nohtyP tsriF yM si siht'"
      ]
     },
     "execution_count": 7,
     "metadata": {},
     "output_type": "execute_result"
    }
   ],
   "source": [
    "s[::-1]"
   ]
  },
  {
   "cell_type": "markdown",
   "id": "de176ae1-0cdd-4934-b093-4095a03e8da3",
   "metadata": {},
   "source": [
    "## 3. Try to split a string after conversion of entire string in uppercase"
   ]
  },
  {
   "cell_type": "code",
   "execution_count": 10,
   "id": "ae8c7074-74f2-437f-8190-a54c1ba95584",
   "metadata": {},
   "outputs": [
    {
     "data": {
      "text/plain": [
       "['THIS',\n",
       " 'IS',\n",
       " 'MY',\n",
       " 'FIRST',\n",
       " 'PYTHON',\n",
       " 'PROGRAMMING',\n",
       " 'CLASS',\n",
       " 'AND',\n",
       " 'I',\n",
       " 'AM',\n",
       " 'LEARNING',\n",
       " 'PYTHON',\n",
       " 'STRING',\n",
       " 'AND',\n",
       " 'ITS',\n",
       " 'FUNCTION']"
      ]
     },
     "execution_count": 10,
     "metadata": {},
     "output_type": "execute_result"
    }
   ],
   "source": [
    "s.upper() .split()"
   ]
  },
  {
   "cell_type": "markdown",
   "id": "2125ed78-e79f-4659-a684-aa627f574b7f",
   "metadata": {},
   "source": [
    "## 4. try to convert the whole string into lower case"
   ]
  },
  {
   "cell_type": "code",
   "execution_count": 13,
   "id": "1bdcbf72-8fb9-465a-9566-297bc3a2b0d2",
   "metadata": {},
   "outputs": [
    {
     "data": {
      "text/plain": [
       "'this is my first python programming class and i am learning python string and its function'"
      ]
     },
     "execution_count": 13,
     "metadata": {},
     "output_type": "execute_result"
    }
   ],
   "source": [
    "s.lower()"
   ]
  },
  {
   "cell_type": "markdown",
   "id": "f1a1043e-8ac8-4a26-90b9-1ba5a0eed98c",
   "metadata": {},
   "source": [
    "## 5. Try to capitalize the whole string"
   ]
  },
  {
   "cell_type": "code",
   "execution_count": 16,
   "id": "e2c63ce9-f42b-4f59-9687-4ba55f970c0f",
   "metadata": {},
   "outputs": [
    {
     "data": {
      "text/plain": [
       "'This is my first python programming class and i am learning python string and its function'"
      ]
     },
     "execution_count": 16,
     "metadata": {},
     "output_type": "execute_result"
    }
   ],
   "source": [
    "s.capitalize()"
   ]
  },
  {
   "cell_type": "markdown",
   "id": "b0180925-3dc2-44d2-b5a7-cb6bdcabd065",
   "metadata": {},
   "source": [
    "## 6. Write a diference between isalnum() and isalpha()"
   ]
  },
  {
   "cell_type": "code",
   "execution_count": 19,
   "id": "a20d4877-f164-467f-b7a4-bfd8130081be",
   "metadata": {},
   "outputs": [
    {
     "data": {
      "text/plain": [
       "False"
      ]
     },
     "execution_count": 19,
     "metadata": {},
     "output_type": "execute_result"
    }
   ],
   "source": [
    "s.isalnum()"
   ]
  },
  {
   "cell_type": "code",
   "execution_count": 21,
   "id": "a5fa423e-6294-4834-9d2f-434891c35e1f",
   "metadata": {},
   "outputs": [
    {
     "data": {
      "text/plain": [
       "False"
      ]
     },
     "execution_count": 21,
     "metadata": {},
     "output_type": "execute_result"
    }
   ],
   "source": [
    "s.isalpha()"
   ]
  },
  {
   "cell_type": "code",
   "execution_count": 29,
   "id": "4597da80-f38e-4a35-9636-79c8da859bd8",
   "metadata": {},
   "outputs": [
    {
     "data": {
      "text/plain": [
       "'No difference'"
      ]
     },
     "execution_count": 29,
     "metadata": {},
     "output_type": "execute_result"
    }
   ],
   "source": [
    "\"No difference\""
   ]
  },
  {
   "cell_type": "markdown",
   "id": "8522a236-1b0c-4904-9b50-2a80246e406c",
   "metadata": {},
   "source": [
    "## 7. Try to give an example of expand tab "
   ]
  },
  {
   "cell_type": "code",
   "execution_count": 32,
   "id": "1b01adca-6645-4b48-adb5-e270c8938931",
   "metadata": {},
   "outputs": [
    {
     "data": {
      "text/plain": [
       "'this is My First Python programming class and i am learNING python string and its function'"
      ]
     },
     "execution_count": 32,
     "metadata": {},
     "output_type": "execute_result"
    }
   ],
   "source": [
    "s.expandtabs()"
   ]
  },
  {
   "cell_type": "markdown",
   "id": "374c0eb6-dd80-47c3-96c0-c32488775360",
   "metadata": {},
   "source": [
    "## 8. Give an example of strip, Istrip and rstrip"
   ]
  },
  {
   "cell_type": "code",
   "execution_count": 35,
   "id": "41c2a59c-3cb3-40b7-9acc-e312ecde9369",
   "metadata": {},
   "outputs": [
    {
     "data": {
      "text/plain": [
       "'this is My First Python programming class and i am learNING python string and its function'"
      ]
     },
     "execution_count": 35,
     "metadata": {},
     "output_type": "execute_result"
    }
   ],
   "source": [
    "s.strip()"
   ]
  },
  {
   "cell_type": "code",
   "execution_count": 37,
   "id": "5cef3311-0768-4499-beba-17486ba89b1f",
   "metadata": {},
   "outputs": [
    {
     "data": {
      "text/plain": [
       "'this is My First Python programming class and i am learNING python string and its function'"
      ]
     },
     "execution_count": 37,
     "metadata": {},
     "output_type": "execute_result"
    }
   ],
   "source": [
    "s.rstrip()"
   ]
  },
  {
   "cell_type": "code",
   "execution_count": 39,
   "id": "08ceb716-037f-4fe9-9092-7e9729951fac",
   "metadata": {},
   "outputs": [
    {
     "data": {
      "text/plain": [
       "'this is My First Python programming class and i am learNING python string and its function'"
      ]
     },
     "execution_count": 39,
     "metadata": {},
     "output_type": "execute_result"
    }
   ],
   "source": [
    "s.lstrip()"
   ]
  },
  {
   "cell_type": "markdown",
   "id": "e381b175-1695-4c0f-89f3-c15929ea1e26",
   "metadata": {},
   "source": [
    "## 9. Replace a string charecter by another charector by taking your own example \"Your Name\" I"
   ]
  },
  {
   "cell_type": "code",
   "execution_count": 42,
   "id": "b6d28536-c4d5-4434-bad7-328a3fc48d07",
   "metadata": {},
   "outputs": [],
   "source": [
    "a= \"Amay Ghivare\""
   ]
  },
  {
   "cell_type": "code",
   "execution_count": null,
   "id": "2fb193ea-5979-44ff-895c-a03fd7fa1a55",
   "metadata": {},
   "outputs": [],
   "source": []
  }
 ],
 "metadata": {
  "kernelspec": {
   "display_name": "Python 3 (ipykernel)",
   "language": "python",
   "name": "python3"
  },
  "language_info": {
   "codemirror_mode": {
    "name": "ipython",
    "version": 3
   },
   "file_extension": ".py",
   "mimetype": "text/x-python",
   "name": "python",
   "nbconvert_exporter": "python",
   "pygments_lexer": "ipython3",
   "version": "3.12.4"
  }
 },
 "nbformat": 4,
 "nbformat_minor": 5
}
